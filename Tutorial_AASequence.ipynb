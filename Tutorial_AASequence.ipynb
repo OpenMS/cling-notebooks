{
 "cells": [
  {
   "cell_type": "code",
   "execution_count": null,
   "id": "182ebb96",
   "metadata": {},
   "outputs": [],
   "source": [
    "#include <iostream>\n",
    "#pragma base add_include_path(\"/Users/tapaswenipathak/miniconda3/envs/cling/include/OpenMS/\")\n",
    "#include \"OpenMS/CHEMISTRY/AASequence.h\"\n",
    "\n",
    "using namespace OpenMS;\n",
    "using namespace std;\n",
    "\n",
    "\n",
    "  // generate AASequence object from String\n",
    "  const String s = \"DEFIANGER\";\n",
    "  AASequence peptide1 = AASequence::fromString(s);\n",
    "\n",
    "  // generate AASequence object from string literal\n",
    "  AASequence peptide2 = AASequence::fromString(\"PEPTIDER\");\n",
    "\n",
    "  // extract prefix and suffix\n",
    "  AASequence prefix(peptide1.getPrefix(2));\n",
    "  AASequence suffix(peptide1.getSuffix(3));\n",
    "  cout << peptide1.toString() << \" \"\n",
    "       << prefix << \" \"\n",
    "       << suffix << endl;\n",
    "  \n",
    "  // create chemically modified peptide\n",
    "  AASequence peptide_meth_ox = AASequence::fromString(\"PEPTIDESEKUEM(Oxidation)CER\");\n",
    "  cout << peptide_meth_ox.toString() << \" \"\n",
    "       << peptide_meth_ox.toUnmodifiedString()\n",
    "       << endl;\n",
    "\n",
    "  // mass of the full, uncharged peptide\n",
    "  double peptide_mass_mono = peptide_meth_ox.getMonoWeight();\n",
    "  cout << \"Monoisotopic mass of the uncharged, full peptide: \" << peptide_mass_mono << endl;\n",
    "\n",
    "  double peptide_mass_avg = peptide_meth_ox.getAverageWeight();\n",
    "  cout << \"Average mass of the uncharged, full peptide: \" << peptide_mass_avg << endl;\n",
    "\n",
    "  // mass of the 2+ charged b-ion with the given sequence\n",
    "  double ion_mass_2plus = peptide_meth_ox.getMonoWeight(Residue::BIon, 2);\n",
    "  cout << \"Mass of the doubly positively charged b-ion: \" << ion_mass_2plus << endl;\n",
    "\n",
    "  // mass-to-charge ratio (m/z) of the 2+ charged b-ion and full peptide with the given sequence\n",
    "  cout << \"Mass-to-charge of the doubly positively charged b-ion: \" << peptide_meth_ox.getMZ(2, Residue::BIon) << endl;\n",
    "  cout << \"Mass-to-charge of the doubly positively charged peptide: \" << peptide_meth_ox.getMZ(2) << endl;\n",
    "\n",
    "  // ... many more\n"
   ]
  }
 ],
 "metadata": {
  "kernelspec": {
   "display_name": "C++17",
   "language": "C++17",
   "name": "xeus-cling-cpp17"
  }
 },
 "nbformat": 4,
 "nbformat_minor": 5
}
